{
  "nbformat": 4,
  "nbformat_minor": 0,
  "metadata": {
    "colab": {
      "provenance": []
    },
    "kernelspec": {
      "name": "python3",
      "display_name": "Python 3"
    },
    "language_info": {
      "name": "python"
    }
  },
  "cells": [
    {
      "cell_type": "code",
      "execution_count": 11,
      "metadata": {
        "colab": {
          "base_uri": "https://localhost:8080/"
        },
        "id": "Adec8j7ahQNg",
        "outputId": "e742c472-f430-4af4-b388-dfec540796b0"
      },
      "outputs": [
        {
          "output_type": "stream",
          "name": "stdout",
          "text": [
            "Enter the first vector (comma-separated): 1, 2, 3\n",
            "Enter the second vector (comma-separated): 4, 5, 6\n",
            "Euclidean distance: 5.196152422706632\n",
            "Manhattan distance: 9.0\n"
          ]
        }
      ],
      "source": [
        "import math\n",
        "def get_vector_input():\n",
        "    v1=list(map(float, input(\"Enter the first vector (comma-separated): \").split(',')))\n",
        "    v2=list(map(float, input(\"Enter the second vector (comma-separated): \").split(',')))\n",
        "    return v1,v2\n",
        "def euc_dist(v1,v2):\n",
        "    if len(v1)!=len(v2):\n",
        "        raise ValueError(\"Vectors must be of the same dimension\")\n",
        "    distance=0\n",
        "    for i in range(len(v1)):\n",
        "        distance+=(v1[i]-v2[i])**2\n",
        "    return math.sqrt(distance)\n",
        "def man_dist(v1,v2):\n",
        "    if len(v1)!=len(v2):\n",
        "        raise ValueError(\"Vectors must be of the same dimension\")\n",
        "    distance=0\n",
        "    for i in range(len(v1)):\n",
        "        distance+=abs(v1[i]-v2[i])\n",
        "    return distance\n",
        "def main():\n",
        "    v1,v2=get_vector_input()\n",
        "    try:\n",
        "        euclidean_dist = euc_dist(v1,v2)\n",
        "        manhattan_dist = man_dist(v1,v2)\n",
        "        print(\"Euclidean distance:\",euclidean_dist)\n",
        "        print(\"Manhattan distance:\",manhattan_dist)\n",
        "    except ValueError as e:\n",
        "        print(\"Error:\",e)\n",
        "if __name__ == \"__main__\":\n",
        "    main()"
      ]
    },
    {
      "cell_type": "code",
      "source": [
        "from collections import Counter\n",
        "def euclidean_distance(vec1,vec2):\n",
        "    if len(vec1)!=len(vec2):\n",
        "        raise ValueError(\"Vectors must be of the same dimension\")\n",
        "    distance=0\n",
        "    for i in range(len(vec1)):\n",
        "        distance+=(vec1[i]-vec2[i])**2\n",
        "    return distance**0.5\n",
        "def k_nearest_neighbors(training_data,test_instance,k):\n",
        "    distances=[]\n",
        "    for data_point, label in training_data:\n",
        "        distance=euclidean_distance(data_point,test_instance)\n",
        "        distances.append((data_point,label,distance))\n",
        "    distances.sort(key=lambda x: x[2])\n",
        "    k_nearest=distances[:k]\n",
        "    nearest_labels=[label for _,label, _ in k_nearest]\n",
        "    most_common_label=Counter(nearest_labels).most_common(1)[0][0]\n",
        "    return most_common_label\n",
        "training_data=[([1, 2],'A'), ([3, 4],'B'), ([5, 6],'A'), ([7, 8],'B')]\n",
        "test_instance=[6,7]\n",
        "k=3\n",
        "predicted_label=k_nearest_neighbors(training_data,test_instance,k)\n",
        "print(\"Predicted label:\",predicted_label)"
      ],
      "metadata": {
        "id": "Nk53RGPJh7Zk",
        "colab": {
          "base_uri": "https://localhost:8080/"
        },
        "outputId": "0f739d53-0118-4cdf-ec1f-c4a7550865d0"
      },
      "execution_count": 12,
      "outputs": [
        {
          "output_type": "stream",
          "name": "stdout",
          "text": [
            "Predicted label: B\n"
          ]
        }
      ]
    },
    {
      "cell_type": "code",
      "source": [
        "def label_encode_categorical(data):\n",
        "    unique_categories=list(set(data))\n",
        "    label_map={}\n",
        "    for i,category in enumerate(unique_categories):\n",
        "        label_map[category] = i\n",
        "    encoded_data=[label_map[category] for category in data]\n",
        "    return label_map,encoded_data\n",
        "data = [\"apple\",\"banana\",\"apple\",\"orange\",\"banana\"]\n",
        "label_map, encoded_data=label_encode_categorical(data)\n",
        "print(\"Label Map:\",label_map)\n",
        "print(\"Encoded Data:\",encoded_data)"
      ],
      "metadata": {
        "colab": {
          "base_uri": "https://localhost:8080/"
        },
        "id": "2UracT3Li9Js",
        "outputId": "deb92c13-e921-4965-e4d2-0dcbb1545ca5"
      },
      "execution_count": 13,
      "outputs": [
        {
          "output_type": "stream",
          "name": "stdout",
          "text": [
            "Label Map: {'apple': 0, 'banana': 1, 'orange': 2}\n",
            "Encoded Data: [0, 1, 0, 2, 1]\n"
          ]
        }
      ]
    },
    {
      "cell_type": "code",
      "source": [
        "def one_hot_encode_categorical(data):\n",
        "    unique_categories=list(set(data))\n",
        "    category_to_index={category: i for i, category in enumerate(unique_categories)}\n",
        "    one_hot_encoded=[]\n",
        "    for category in data:\n",
        "        encoding=[0]*len(unique_categories)\n",
        "        encoding[category_to_index[category]]=1\n",
        "        one_hot_encoded.append(encoding)\n",
        "    return one_hot_encoded, category_to_index\n",
        "data=[\"red\",\"blue\",\"green\",\"red\",\"green\"]\n",
        "one_hot_encoded,category_to_index = one_hot_encode_categorical(data)\n",
        "print(\"One-Hot Encoded Data:\",one_hot_encoded)\n",
        "print(\"Mapping of Categories to Indices:\",category_to_index)"
      ],
      "metadata": {
        "colab": {
          "base_uri": "https://localhost:8080/"
        },
        "id": "Q_YWWNNWjfv_",
        "outputId": "67a2deb3-f6d2-4cd5-bb82-7ffef320362a"
      },
      "execution_count": 14,
      "outputs": [
        {
          "output_type": "stream",
          "name": "stdout",
          "text": [
            "One-Hot Encoded Data: [[0, 0, 1], [0, 1, 0], [1, 0, 0], [0, 0, 1], [1, 0, 0]]\n",
            "Mapping of Categories to Indices: {'green': 0, 'blue': 1, 'red': 2}\n"
          ]
        }
      ]
    }
  ]
}